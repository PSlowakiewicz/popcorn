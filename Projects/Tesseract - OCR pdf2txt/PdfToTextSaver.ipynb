{
 "cells": [
  {
   "cell_type": "code",
   "execution_count": null,
   "id": "lucky-confidentiality",
   "metadata": {},
   "outputs": [],
   "source": [
    "import cv2 \n",
    "import pytesseract\n",
    "import numpy as np\n",
    "import os\n",
    "import tempfile\n",
    "from PIL import Image\n",
    "from pdf2image import convert_from_path\n",
    "from pdf2image.exceptions import (\n",
    "    PDFInfoNotInstalledError,\n",
    "    PDFPageCountError,\n",
    "    PDFSyntaxError\n",
    ")"
   ]
  },
  {
   "cell_type": "code",
   "execution_count": null,
   "id": "enabling-migration",
   "metadata": {},
   "outputs": [],
   "source": [
    "pytesseract.pytesseract.tesseract_cmd = r'C:\\Users\\Patryk\\Documents\\Semestr5\\Projekt Int\\Etap2\\OCR\\tesseract.exe'"
   ]
  },
  {
   "cell_type": "code",
   "execution_count": null,
   "id": "generous-motel",
   "metadata": {},
   "outputs": [],
   "source": [
    "def pdf2str(path):\n",
    "    images = convert_from_path(path, fmt='png')\n",
    "    Fullstr = \"\"\n",
    "    custom_config = r'--oem 3 --psm 6'\n",
    "    for i in range(len(images)):\n",
    "       print('  Przetwarzam stronę :' + str(i))\n",
    "        string = pytesseract.image_to_string(images[i], config=custom_config)\n",
    "        Fullstr += string\n",
    "    return Fullstr\n",
    "        "
   ]
  },
  {
   "cell_type": "code",
   "execution_count": null,
   "id": "living-finish",
   "metadata": {},
   "outputs": [],
   "source": [
    "def str2txt(string, file_name, dir_name):\n",
    "    with open(dir_name+\"/\"+file_name+'.txt', 'w', encoding='utf-8') as f:\n",
    "        f.write(string)\n",
    "    print('    Zapisane do pliku')\n",
    "    f.close()"
   ]
  },
  {
   "cell_type": "code",
   "execution_count": null,
   "id": "nominated-strip",
   "metadata": {},
   "outputs": [],
   "source": [
    "def fullsaver(dir_from, dir_to):\n",
    "    for k in os.listdir(dir_from):\n",
    "        kname = k.rsplit('.', 1)[0]\n",
    "        print('Nowy plik: '+ kname)\n",
    "        str2txt(pdf2str(dir_from+\"/\"+k),kname,dir_to)"
   ]
  },
  {
   "cell_type": "code",
   "execution_count": null,
   "id": "derived-picture",
   "metadata": {},
   "outputs": [],
   "source": [
    "fullsaver('testPDF', 'wzorceTxt')"
   ]
  }
 ],
 "metadata": {
  "kernelspec": {
   "display_name": "Python 3",
   "language": "python",
   "name": "python3"
  },
  "language_info": {
   "codemirror_mode": {
    "name": "ipython",
    "version": 3
   },
   "file_extension": ".py",
   "mimetype": "text/x-python",
   "name": "python",
   "nbconvert_exporter": "python",
   "pygments_lexer": "ipython3",
   "version": "3.8.8"
  }
 },
 "nbformat": 4,
 "nbformat_minor": 5
}
